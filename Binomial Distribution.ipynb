{
  "nbformat": 4,
  "nbformat_minor": 0,
  "metadata": {
    "colab": {
      "provenance": []
    },
    "kernelspec": {
      "name": "python3",
      "display_name": "Python 3"
    },
    "language_info": {
      "name": "python"
    }
  },
  "cells": [
    {
      "cell_type": "markdown",
      "source": [
        "# **Binomial Distribution**\n",
        "**Problem Statement**:\n",
        "In professional basketball, free throw accuracy is a key performance indicator for players. According to NBA statistics, many proficient players have a free throw success rate close to 70% (NBA, 2023). Suppose a basketball player has a probability of 0.7 of making a successful free throw. We want to model the probability distribution of making exactly k successful shots out of 10 free throw attempts using the Binomial Distribution.\n",
        "\n",
        "This kind of modeling is commonly used in sports analytics to evaluate player performance and to set expectations for outcomes in repeated skill-based trials (Berri & Schmidt, 2010).\n"
      ],
      "metadata": {
        "id": "q5EQA9izvaQN"
      }
    },
    {
      "cell_type": "markdown",
      "source": [
        "**Binomial Distribution Formula**:\n",
        "P(X = k) = C(n, k) * p^k * (1 - p)^(n - k)\n",
        "\n",
        "**Where**:\n",
        "- C(n, k) = n! / (k! * (n - k)!) is the binomial coefficient\n",
        "- p is the probability of success on a single trial (0.7 in our case) - n is the number of trials (10)\n",
        "- k is the number of successful outcomes\n"
      ],
      "metadata": {
        "id": "ZPtKVbzOv8nV"
      }
    },
    {
      "cell_type": "code",
      "execution_count": null,
      "metadata": {
        "id": "Astjakxmgw1b"
      },
      "outputs": [],
      "source": [
        "import matplotlib.pyplot as plt"
      ]
    },
    {
      "cell_type": "code",
      "source": [
        "# Function to calculate factorial\n",
        "def factorial(n):\n",
        "  result = 1\n",
        "  for i in range(2, n + 1):\n",
        "    result *= i\n",
        "  return result"
      ],
      "metadata": {
        "id": "Wg-oBCFPhQPs"
      },
      "execution_count": null,
      "outputs": []
    },
    {
      "cell_type": "code",
      "source": [
        "# Binomial coefficient: C(n, k)\n",
        "def binomial_coefficient(n, k):\n",
        "  return factorial(n) // (factorial(k) * factorial(n - k))"
      ],
      "metadata": {
        "id": "VpvSNLx1iGWm"
      },
      "execution_count": null,
      "outputs": []
    },
    {
      "cell_type": "code",
      "source": [
        "#Binomial distribution probability\n",
        "def binomial_distribution_probability(n, k, p):\n",
        "  return binomial_coefficient(n, k) * (p ** k) * ((1 - p) ** (n - k))"
      ],
      "metadata": {
        "id": "w5ZArCgjifjI"
      },
      "execution_count": null,
      "outputs": []
    },
    {
      "cell_type": "code",
      "source": [
        "#Parameters\n",
        "n = 10 # number of trials\n",
        "p = 0.7 # probability of success"
      ],
      "metadata": {
        "id": "Verx7OTJi_A4"
      },
      "execution_count": null,
      "outputs": []
    },
    {
      "cell_type": "code",
      "source": [
        "x_values = range(n + 1)\n",
        "y_values = [binomial_distribution_probability(n, k, p) for k in x_values]"
      ],
      "metadata": {
        "id": "Wq9gjh4Sjnu5"
      },
      "execution_count": null,
      "outputs": []
    },
    {
      "cell_type": "code",
      "source": [
        "#Print probabilities\n",
        "for k, prob in zip(x_values, y_values):\n",
        "  print(f\"Probability of {k} successes in {n} trials: {prob:.4f}\")"
      ],
      "metadata": {
        "colab": {
          "base_uri": "https://localhost:8080/"
        },
        "id": "Jnbtj2SqkeMS",
        "outputId": "4c2d7ebd-3e34-4e68-a600-bb40aa1e6a9a"
      },
      "execution_count": null,
      "outputs": [
        {
          "output_type": "stream",
          "name": "stdout",
          "text": [
            "Probability of 0 successes in 10 trials: 0.0000\n",
            "Probability of 1 successes in 10 trials: 0.0001\n",
            "Probability of 2 successes in 10 trials: 0.0014\n",
            "Probability of 3 successes in 10 trials: 0.0090\n",
            "Probability of 4 successes in 10 trials: 0.0368\n",
            "Probability of 5 successes in 10 trials: 0.1029\n",
            "Probability of 6 successes in 10 trials: 0.2001\n",
            "Probability of 7 successes in 10 trials: 0.2668\n",
            "Probability of 8 successes in 10 trials: 0.2335\n",
            "Probability of 9 successes in 10 trials: 0.1211\n",
            "Probability of 10 successes in 10 trials: 0.0282\n"
          ]
        }
      ]
    },
    {
      "cell_type": "code",
      "source": [
        "# Plotting\n",
        "plt.bar(x_values, y_values, color='skyblue', edgecolor='black')\n",
        "plt.xlabel('Number of Successful Free Throws (k)')\n",
        "plt.ylabel('Probability')\n",
        "plt.title(f'Binomial Distribution: n = {n}, p = {p}')\n",
        "plt.grid(axis='y', linestyle='--', alpha=0.6)\n",
        "plt.show()"
      ],
      "metadata": {
        "colab": {
          "base_uri": "https://localhost:8080/",
          "height": 472
        },
        "id": "gqi_3MIBnCSP",
        "outputId": "6f83c179-3fed-4cc5-eeed-f8a245eab541"
      },
      "execution_count": null,
      "outputs": [
        {
          "output_type": "display_data",
          "data": {
            "text/plain": [
              "<Figure size 640x480 with 1 Axes>"
            ],
            "image/png": "[encoded data removed]"
          },
          "metadata": {}
        }
      ]
    },
    {
      "cell_type": "markdown",
      "source": [
        "**Summary**:\n",
        "- Number of Trials (n): 10\n",
        "- Probability of Success (p): 0.7\n",
        "- Outcome Range (k): 0 to 10\n",
        "- Purpose: Model free throw success distribution using the binomial formula - Visualization: Bar plot using matplotlib"
      ],
      "metadata": {
        "id": "wCox9pyJwabV"
      }
    },
    {
      "cell_type": "markdown",
      "source": [
        "References:\n",
        "NBA. (2023). Player shooting stats. Retrieved from https://www.nba.com/stats/\n",
        "Berri, D. J., & Schmidt, M. B. (2010). Stumbling on Wins: Two Economists Expose the Pitfalls on the Road to Victory in Professional Sports. Financial Times Press."
      ],
      "metadata": {
        "id": "kG65HrkMwljZ"
      }
    }
  ]
}